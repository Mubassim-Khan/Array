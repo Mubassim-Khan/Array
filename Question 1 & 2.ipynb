{
 "cells": [
  {
   "cell_type": "markdown",
   "metadata": {},
   "source": [
    "# Question 1"
   ]
  },
  {
   "cell_type": "markdown",
   "metadata": {},
   "source": [
    "##### A click counter is a small hand-held device, that contains a push button & a count display. To increment the counter, the button is pushed & new count shows in display. Clicker counters also contain a button that can be pressed to reset the counter to zero. Design & implement the Counter ADT that functions as a hand-held clicker."
   ]
  },
  {
   "cell_type": "code",
   "execution_count": 1,
   "metadata": {},
   "outputs": [],
   "source": [
    "import tkinter as tk\n",
    "from time import time\n",
    "\n",
    "class StopWatch:\n",
    "    def __init__(self, root):\n",
    "        self.root = root\n",
    "        self.root.title(\"Stopwatch\")\n",
    "        self.running = False\n",
    "        self.elapsed_time = 0\n",
    "        self.last_time = 0\n",
    "\n",
    "        self.time_label = tk.Label(root, text=\"0:00:00.000\", font=(\"Arial\", 24))\n",
    "        self.time_label.pack(padx=10, pady=5)\n",
    "\n",
    "        self.start_button = tk.Button(root, text=\"Start\", command=self.start)\n",
    "        self.start_button.pack(pady=5)\n",
    "        self.stop_button = tk.Button(root, text=\"Stop\", command=self.stop)\n",
    "        self.stop_button.pack(pady=5)\n",
    "        self.reset_button = tk.Button(root, text=\"Reset\", command=self.reset)\n",
    "        self.reset_button.pack(pady=5)\n",
    "\n",
    "        self.update_time()\n",
    "\n",
    "    def start(self):\n",
    "        self.running = True\n",
    "        self.last_time = time()\n",
    "\n",
    "    def stop(self):\n",
    "        self.running = False\n",
    "\n",
    "    def reset(self):\n",
    "        self.running = False\n",
    "        self.elapsed_time = 0\n",
    "        self.update_time()\n",
    "\n",
    "    def update_time(self):\n",
    "        if self.running:\n",
    "            self.elapsed_time += time() - self.last_time\n",
    "            self.last_time = time()\n",
    "        minutes, seconds = divmod(int(self.elapsed_time), 60)\n",
    "        hours, minutes = divmod(minutes, 60)\n",
    "        self.time_label.config(text=f\"{hours:02}:{minutes:02}:{seconds:02}.{int(self.elapsed_time % 1 * 1000):03}\")\n",
    "        self.root.after(50, self.update_time)\n",
    "\n",
    "if __name__ == \"__main__\":\n",
    "    root = tk.Tk()\n",
    "    app = StopWatch(root)\n",
    "    root.mainloop()\n"
   ]
  },
  {
   "cell_type": "markdown",
   "metadata": {},
   "source": [
    "# Question 2"
   ]
  },
  {
   "cell_type": "markdown",
   "metadata": {},
   "source": [
    "##### A polygon is a closed geometric shape consisting of three or more line segments that are connected end to end. The endpoints of line segments are known as vertices, which can be defined by points in two-dimensional Cartesian coordinate system. \n",
    "\n",
    "- Define a Polygon ADT to represent a geometric polygon & provide a set of appropiate operations.\n",
    "- Provide a Python implementation of your Polygon ADT."
   ]
  },
  {
   "cell_type": "code",
   "execution_count": 1,
   "metadata": {},
   "outputs": [],
   "source": [
    "import tkinter as tk\n",
    "\n",
    "class PolygonADT:\n",
    "    def __init__(self):\n",
    "        self.vertices = []\n",
    "        self.is_closed = False\n",
    "\n",
    "    def add_vertex(self, x, y):\n",
    "        if not self.is_closed:\n",
    "            self.vertices.append((x, y))\n",
    "\n",
    "    def close_polygon(self):\n",
    "        if len(self.vertices) >= 3:\n",
    "            self.is_closed = True\n",
    "\n",
    "    def get_vertices(self):\n",
    "        return self.vertices\n",
    "\n",
    "def add_vertex():\n",
    "    x, y = int(x_entry.get()), int(y_entry.get())\n",
    "    polygon.add_vertex(x, y)\n",
    "    canvas.create_oval(x, y, x, y, width=2, fill=\"red\")\n",
    "\n",
    "def close_polygon():\n",
    "    polygon.close_polygon()\n",
    "    vertices = polygon.get_vertices()\n",
    "    if len(vertices) >= 3:\n",
    "        canvas.create_polygon(vertices, outline=\"blue\", fill=\"cyan\")\n",
    "\n",
    "root = tk.Tk()\n",
    "root.title(\"Polygon ADT\")\n",
    "\n",
    "polygon = PolygonADT()\n",
    "\n",
    "canvas = tk.Canvas(root, width=400, height=400)\n",
    "canvas.pack()\n",
    "\n",
    "frame = tk.Frame(root)\n",
    "frame.pack()\n",
    "\n",
    "x_label = tk.Label(frame, text=\"X:\")\n",
    "x_label.grid(row=0, column=0)\n",
    "\n",
    "x_entry = tk.Entry(frame)\n",
    "x_entry.grid(row=0, column=1)\n",
    "\n",
    "y_label = tk.Label(frame, text=\"Y:\")\n",
    "y_label.grid(row=0, column=2)\n",
    "\n",
    "y_entry = tk.Entry(frame)\n",
    "y_entry.grid(row=0, column=3)\n",
    "\n",
    "add_button = tk.Button(frame, text=\"Add Vertex\", command=add_vertex)\n",
    "add_button.grid(row=0, column=4)\n",
    "\n",
    "close_button = tk.Button(frame, text=\"Close Polygon\", command=close_polygon)\n",
    "close_button.grid(row=0, column=5)\n",
    "\n",
    "root.mainloop()\n"
   ]
  }
 ],
 "metadata": {
  "kernelspec": {
   "display_name": "Python 3",
   "language": "python",
   "name": "python3"
  },
  "language_info": {
   "codemirror_mode": {
    "name": "ipython",
    "version": 3
   },
   "file_extension": ".py",
   "mimetype": "text/x-python",
   "name": "python",
   "nbconvert_exporter": "python",
   "pygments_lexer": "ipython3",
   "version": "3.10.0"
  }
 },
 "nbformat": 4,
 "nbformat_minor": 2
}
