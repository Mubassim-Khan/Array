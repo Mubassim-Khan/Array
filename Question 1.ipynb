{
 "cells": [
  {
   "cell_type": "code",
   "execution_count": 2,
   "metadata": {},
   "outputs": [],
   "source": [
    "import tkinter as tk\n",
    "from time import time\n",
    "\n",
    "class StopWatch:\n",
    "    def __init__(self, root):\n",
    "        self.root = root\n",
    "        self.root.title(\"Stopwatch\")\n",
    "        self.running = False\n",
    "        self.elapsed_time = 0\n",
    "        self.last_time = 0\n",
    "\n",
    "        self.time_label = tk.Label(root, text=\"0:00:00.000\", font=(\"Arial\", 24))\n",
    "        self.time_label.pack(padx=10, pady=5)\n",
    "\n",
    "        self.start_button = tk.Button(root, text=\"Start\", command=self.start)\n",
    "        self.start_button.pack(pady=5)\n",
    "        self.stop_button = tk.Button(root, text=\"Stop\", command=self.stop)\n",
    "        self.stop_button.pack(pady=5)\n",
    "        self.reset_button = tk.Button(root, text=\"Reset\", command=self.reset)\n",
    "        self.reset_button.pack(pady=5)\n",
    "\n",
    "        self.update_time()\n",
    "\n",
    "    def start(self):\n",
    "        self.running = True\n",
    "        self.last_time = time()\n",
    "\n",
    "    def stop(self):\n",
    "        self.running = False\n",
    "\n",
    "    def reset(self):\n",
    "        self.running = False\n",
    "        self.elapsed_time = 0\n",
    "        self.update_time()\n",
    "\n",
    "    def update_time(self):\n",
    "        if self.running:\n",
    "            self.elapsed_time += time() - self.last_time\n",
    "            self.last_time = time()\n",
    "        minutes, seconds = divmod(int(self.elapsed_time), 60)\n",
    "        hours, minutes = divmod(minutes, 60)\n",
    "        self.time_label.config(text=f\"{hours:02}:{minutes:02}:{seconds:02}.{int(self.elapsed_time % 1 * 1000):03}\")\n",
    "        self.root.after(50, self.update_time)\n",
    "\n",
    "if __name__ == \"__main__\":\n",
    "    root = tk.Tk()\n",
    "    app = StopWatch(root)\n",
    "    root.mainloop()\n"
   ]
  }
 ],
 "metadata": {
  "kernelspec": {
   "display_name": "Python 3",
   "language": "python",
   "name": "python3"
  },
  "language_info": {
   "codemirror_mode": {
    "name": "ipython",
    "version": 3
   },
   "file_extension": ".py",
   "mimetype": "text/x-python",
   "name": "python",
   "nbconvert_exporter": "python",
   "pygments_lexer": "ipython3",
   "version": "3.10.0"
  }
 },
 "nbformat": 4,
 "nbformat_minor": 2
}
