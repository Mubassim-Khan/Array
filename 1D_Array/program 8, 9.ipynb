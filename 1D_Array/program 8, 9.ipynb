{
 "cells": [
  {
   "cell_type": "markdown",
   "metadata": {},
   "source": [
    "# Program 8"
   ]
  },
  {
   "cell_type": "markdown",
   "metadata": {},
   "source": [
    "#### Write a program that read the contents of a text file and count the number of letters occurring in the file with the results printed to the terminal.\n",
    "\n"
   ]
  },
  {
   "cell_type": "code",
   "execution_count": 4,
   "metadata": {},
   "outputs": [
    {
     "name": "stdout",
     "output_type": "stream",
     "text": [
      "Total number of letters in file are: 36\n"
     ]
    }
   ],
   "source": [
    "file = open(\"file.txt\", \"r\")\n",
    "\n",
    "count = 0\n",
    "\n",
    "for words in file:\n",
    "    word = words.split(\" \")\n",
    "    for letter in word:\n",
    "        count = count + len(letter)\n",
    "file.close()\n",
    "\n",
    "print(\"Total number of letters in file are: \" + str(count))\n"
   ]
  },
  {
   "cell_type": "markdown",
   "metadata": {},
   "source": [
    "# Program 9"
   ]
  },
  {
   "cell_type": "markdown",
   "metadata": {},
   "source": [
    "#### Create a Python list and apply the different methods of the built in list class (Choose your own scenario/example)\n"
   ]
  },
  {
   "cell_type": "code",
   "execution_count": 35,
   "metadata": {},
   "outputs": [
    {
     "name": "stdout",
     "output_type": "stream",
     "text": [
      "Given List is: [2, 1, 4, 9]\n",
      "\n",
      "List sorted in as3cending order is: [9, 4, 2, 1]\n",
      "List sorted in descending order is: [1, 2, 4, 9]\n",
      "Sum of elements is: 16\n",
      "Max. element in list is: 9\n",
      "Min. element in list is: 1\n"
     ]
    }
   ],
   "source": [
    "list = []\n",
    "\n",
    "Input = int(input(\"Enter total number of elements: \"))\n",
    "# Input  = Input.split(\" \")\n",
    "\n",
    "for i in range(0, Input):\n",
    "    element = int(input(\"Enter element no. \" + str(i+1)))\n",
    "    list.append(element)\n",
    "\n",
    "print(\"Given List is: \" + str(list))\n",
    "\n",
    "list.sort(reverse=True)\n",
    "print(\"\\nList sorted in as3cending order is: \" + str(list))\n",
    "\n",
    "list.sort(reverse=False)\n",
    "print(\"List sorted in descending order is: \" + str(list))\n",
    "\n",
    "print(\"Sum of elements is: \" + str(sum(list)))\n",
    "print(\"Max. element in list is: \" + str(max(list)))\n",
    "print(\"Min. element in list is: \" + str(min(list)))\n",
    "\n"
   ]
  }
 ],
 "metadata": {
  "kernelspec": {
   "display_name": "Python 3",
   "language": "python",
   "name": "python3"
  },
  "language_info": {
   "codemirror_mode": {
    "name": "ipython",
    "version": 3
   },
   "file_extension": ".py",
   "mimetype": "text/x-python",
   "name": "python",
   "nbconvert_exporter": "python",
   "pygments_lexer": "ipython3",
   "version": "3.10.0"
  }
 },
 "nbformat": 4,
 "nbformat_minor": 2
}
